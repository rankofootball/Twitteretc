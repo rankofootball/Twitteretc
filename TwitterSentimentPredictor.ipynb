{
 "cells": [
  {
   "cell_type": "code",
   "execution_count": 133,
   "metadata": {},
   "outputs": [
    {
     "name": "stdout",
     "output_type": "stream",
     "text": [
      "Most frequent positive words:\n",
      "[('the', 898), ('to', 836), ('a', 718), ('I', 548), ('is', 515), ('and', 486), ('my', 429), ('for', 427), ('you', 422), ('in', 383)]\n",
      "Most frequent negative words:\n",
      "[('to', 1655), ('I', 1425), ('the', 1327), ('my', 1125), ('i', 1016), ('a', 996), ('and', 734), ('is', 721), ('in', 625), ('of', 610)]\n"
     ]
    },
    {
     "data": {
      "text/plain": [
       "Text(0,0.5,'frequency')"
      ]
     },
     "execution_count": 133,
     "metadata": {},
     "output_type": "execute_result"
    },
    {
     "data": {
      "image/png": "[encoded data removed]",
      "text/plain": [
       "<Figure size 432x288 with 1 Axes>"
      ]
     },
     "metadata": {
      "needs_background": "light"
     },
     "output_type": "display_data"
    }
   ],
   "source": [
    "#matplotlib inline \n",
    "\n",
    "\n",
    "import csv\n",
    "from collections import Counter \n",
    "import matplotlib.pyplot as plt\n",
    "import numpy as np\n",
    "\n",
    "TOTAL = 10000   # number of messages included in analysis\n",
    "\n",
    "def word_count(str):\n",
    "    counts = dict()\n",
    "    words = str.split()\n",
    "\n",
    "    for word in words:\n",
    "        if word in counts:\n",
    "            counts[word] += 1\n",
    "        else:\n",
    "            counts[word] = 1\n",
    "\n",
    "    return counts\n",
    "\n",
    "\n",
    "#main\n",
    "with open('Sentiment Analysis Dataset.csv', 'rb') as csvfile:\n",
    "    reader = csv.reader(csvfile, delimiter=',', quotechar='|')\n",
    "    reader.next()\n",
    "    pos = \"\"\n",
    "    neg = \"\"\n",
    "    for i in range(TOTAL):\n",
    "        row = reader.next()\n",
    "        if row[1] == '0':\n",
    "            neg += row[3]\n",
    "        else:\n",
    "            pos += row[3]\n",
    "\n",
    "#print word_count(pos)\n",
    "    # split() returns list of all the words in the string \n",
    "split_pos = pos.split() \n",
    "split_neg = neg.split() \n",
    "\n",
    "# Pass the split_it list to instance of Counter class. \n",
    "Counter_pos = Counter(split_pos) \n",
    "Counter_neg = Counter(split_neg) \n",
    "\n",
    "# most_common() produces k frequently encountered \n",
    "# input values and their respective counts. \n",
    "most_10pos = Counter_pos.most_common(10) \n",
    "most_10neg = Counter_neg.most_common(10) \n",
    "\n",
    "print \"Most frequent positive words:\"\n",
    "print(most_10pos) \n",
    "print \"Most frequent negative words:\"\n",
    "print(most_10neg) \n",
    "\n",
    "most_pos = Counter_pos.most_common(1000) \n",
    "most_neg = Counter_neg.most_common(1000) \n",
    "\n",
    "most_zipf_pos = [tuple[1] for tuple in most_pos]\n",
    "most_zipf_neg = [tuple[1] for tuple in most_neg]\n",
    "\n",
    "plt.loglog(most_zipf_pos,label = 'pos')\n",
    "plt.loglog(most_zipf_neg,label = 'neg')\n",
    "\n",
    "plt.axis([1, 1000, 2, 2000])\n",
    "plt.legend(loc='upper right') \n",
    "\n",
    "plt.legend(loc='lower left') \n",
    "plt.xlabel('rank',fontsize=12) \n",
    "plt.ylabel('frequency',fontsize=12) \n"
   ]
  },
  {
   "cell_type": "code",
   "execution_count": 134,
   "metadata": {},
   "outputs": [
    {
     "name": "stdout",
     "output_type": "stream",
     "text": [
      "('Accuracy:', 0.7548)\n"
     ]
    }
   ],
   "source": [
    "# Prediction of Twitter Sentiment using Logistic Regression\n",
    "#\n",
    "# Twitter messages are vectorized according to a vocabulary of the most frequent words.\n",
    "# The classifiier uses Logistic Regression. It is trained and then tested with a  subset \n",
    "# of messages. With a total number of 10000 messages we obtain more than 75% accuracy already.\n",
    "#\n",
    "# This simple method provides a baseline for more advanced methods for prediction. For instance,\n",
    "# we could use Neural Networks for a second approach. For that one could use word embedding\n",
    "# the order of words is captured and used for informatiuon retrieval. This could substantially\n",
    "# improve accuracy.\n",
    "\n",
    "\n",
    "#  Please run previous cell first!\n",
    "from sklearn.feature_extraction.text import CountVectorizer\n",
    "from sklearn.model_selection import train_test_split\n",
    "from sklearn.linear_model import LogisticRegression\n",
    "\n",
    "with open('Sentiment Analysis Dataset.csv', 'rb') as csvfile:\n",
    "    reader = csv.reader(csvfile, delimiter=',', quotechar='|')\n",
    "    reader.next()\n",
    "\n",
    "\n",
    "#use all of the first TOTAL messages\n",
    "\n",
    "#generate vocabulary\n",
    "    vectorizer = CountVectorizer(min_df=0, lowercase=False)\n",
    "    vectorizer.fit(split_pos+split_neg)                                 \n",
    "    vectorizer.vocabulary_\n",
    "\n",
    "    set = [reader.next() for i in range(TOTAL)]\n",
    "    sentences = [row[3] for row in set]\n",
    "    y = [row[1] for row in set]\n",
    "    \n",
    "# splot into train and test set\n",
    "    sentences_train, sentences_test, y_train, y_test = train_test_split(sentences, y, test_size=0.25, random_state=1000)\n",
    "\n",
    "#vectorize using the vocabulary\n",
    "    X_train = vectorizer.transform(sentences_train)\n",
    "    X_test  = vectorizer.transform(sentences_test)\n",
    "    X_train\n",
    "\n",
    "# train the classifier\n",
    "    classifier = LogisticRegression()\n",
    "    classifier.fit(X_train, y_train)\n",
    "    score = classifier.score(X_test, y_test)\n",
    "\n",
    "    print(\"Accuracy:\", score)"
   ]
  },
  {
   "cell_type": "code",
   "execution_count": null,
   "metadata": {},
   "outputs": [],
   "source": []
  }
 ],
 "metadata": {
  "kernelspec": {
   "display_name": "Python 2",
   "language": "python",
   "name": "python2"
  },
  "language_info": {
   "codemirror_mode": {
    "name": "ipython",
    "version": 2
   },
   "file_extension": ".py",
   "mimetype": "text/x-python",
   "name": "python",
   "nbconvert_exporter": "python",
   "pygments_lexer": "ipython2",
   "version": "2.7.15"
  }
 },
 "nbformat": 4,
 "nbformat_minor": 2
}
